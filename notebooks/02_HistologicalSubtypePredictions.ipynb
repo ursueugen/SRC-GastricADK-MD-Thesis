{
 "cells": [
  {
   "cell_type": "markdown",
   "metadata": {
    "Collapsed": "false"
   },
   "source": [
    "# Molecular associations with histological subtype\n",
    "\n",
    "For now, analyze only mRNA, miRNA and RPPA."
   ]
  },
  {
   "cell_type": "code",
   "execution_count": 8,
   "metadata": {
    "Collapsed": "false"
   },
   "outputs": [],
   "source": [
    "from pathlib import Path\n",
    "\n",
    "import numpy as np\n",
    "import pandas as pd\n",
    "import re\n",
    "\n",
    "from scipy.stats import mannwhitneyu\n",
    "from statsmodels.stats.multitest import multipletests"
   ]
  },
  {
   "cell_type": "code",
   "execution_count": 2,
   "metadata": {
    "Collapsed": "false"
   },
   "outputs": [],
   "source": [
    "CLINICAL_DATA_PATH_1 = \"../data/broad_tcga/clinical/gdac.broadinstitute.org_STAD.Clinical_Pick_Tier1.Level_4.2016012800.0.0.tar.gz\"\n",
    "\n",
    "RPPA_PATH = \"../data/broad_tcga/rppa/gdac.broadinstitute.org_STAD.RPPA_AnnotateWithGene.Level_3.2016012800.0.0/STAD.rppa.txt\"\n",
    "METH_PATH = \"../data/broad_tcga/methylation/gdac.broadinstitute.org_STAD.Merge_methylation__humanmethylation450__jhu_usc_edu__Level_3__within_bioassay_data_set_function__data.Level_3.2016012800.0.0.tar.gz\"\n",
    "MIRNA_PATH_HISEQ = \"../data/broad_tcga/miRSeq/gdac.broadinstitute.org_STAD.Merge_mirnaseq__illuminahiseq_mirnaseq__bcgsc_ca__Level_3__miR_gene_expression__data.Level_3.2016012800.0.0.tar.gz\"\n",
    "\n",
    "RNA_PATH_HISEQ_v1 = '../data/broad_tcga/mRNASeq/gdac.broadinstitute.org_STAD.Merge_rnaseq__illuminahiseq_rnaseq__bcgsc_ca__Level_3__gene_expression__data.Level_3.2016012800.0.0.tar.gz'\n",
    "RNA_PATH_GA_v1 = '../data/broad_tcga/mRNASeq/gdac.broadinstitute.org_STAD.Merge_rnaseq__illuminaga_rnaseq__bcgsc_ca__Level_3__gene_expression__data.Level_3.2016012800.0.0.tar.gz'\n",
    "RNA_PATH_HISEQ_v2 = ''\n",
    "RNA_PATH_HISEQ_normalized_v2 = '../data/broad_tcga/mRNASeq/gdac.broadinstitute.org_STAD.Merge_rnaseqv2__illuminahiseq_rnaseqv2__unc_edu__Level_3__RSEM_genes_normalized__data.Level_3.2016012800.0.0.tar.gz'"
   ]
  },
  {
   "cell_type": "code",
   "execution_count": 11,
   "metadata": {
    "Collapsed": "false"
   },
   "outputs": [],
   "source": [
    "def load_rppa(path=RPPA_PATH) -> pd.DataFrame:\n",
    "    df = pd.read_csv(path, sep='\\t', index_col=0, header=0)\n",
    "    return df\n",
    "\n",
    "def load_mirna(path=MIRNA_PATH_HISEQ) -> pd.DataFrame:\n",
    "    df = pd.read_csv(path, sep='\\t', header=0, index_col=0)\n",
    "    df = df.iloc[1:, (df.loc['miRNA_ID'] == 'reads_per_million_miRNA_mapped').values]\n",
    "    return df\n",
    "\n",
    "def load_mrna(path=RNA_PATH_HISEQ_normalized_v2) -> pd.DataFrame:\n",
    "    df = pd.read_csv(path, compression='gzip',\n",
    "                    index_col=0, header=0, sep='\\t').iloc[1:, :]\n",
    "    return df\n",
    "\n",
    "def load_clinical(path=CLINICAL_DATA_PATH_1) -> pd.DataFrame:\n",
    "    df = pd.read_csv(path, index_col=0, sep='\\t')\n",
    "    return df\n",
    "\n",
    "def load_data(types: list = ['clinical', 'mRNA', 'miRNA', 'rppa']) -> dict:\n",
    "    '''\n",
    "    Loads dataframes into dict by data type.\n",
    "    \n",
    "    :param types\n",
    "    :return dict\n",
    "    '''\n",
    "    \n",
    "    # mutations seems big file, might take a while\n",
    "    # methylation is with similar issue\n",
    "    \n",
    "    types_l = [s.lower() for s in types]  # lower strings' chars\n",
    "    d = {}\n",
    "    d['clinical'] = load_clinical()  # need to load clinical anyways\n",
    "    \n",
    "    if 'mrna' in types_l:\n",
    "        d['mrna'] = load_mrna()\n",
    "    if 'mirna' in types_l:\n",
    "        d['mirna'] = load_mirna()\n",
    "    if 'rppa' in types_l:\n",
    "        d['rppa'] = load_rppa()\n",
    "    \n",
    "    return d"
   ]
  },
  {
   "cell_type": "code",
   "execution_count": 4,
   "metadata": {
    "Collapsed": "false"
   },
   "outputs": [],
   "source": [
    "def get_ids_by_subtype(df: pd.DataFrame, subtype: str or list):\n",
    "    '''\n",
    "    '''\n",
    "    \n",
    "    histotypes = df.loc['histological_type'].iloc[0].to_list()\n",
    "    \n",
    "    short_names = {'src': r'signet ring type',\n",
    "                  'diffuse': r'stomach, adenocarcinoma, diffuse type'}\n",
    "    \n",
    "    if type(subtype) == list:\n",
    "        pass\n",
    "    \n",
    "    elif type(subtype) == str:\n",
    "        assert subtype in short_names.keys()\n",
    "        subtype = [subtype]\n",
    "    \n",
    "    else:\n",
    "        raise ValueError(\"subtype string not recognized.\")\n",
    "    \n",
    "    ids = []\n",
    "    for subt in subtype:\n",
    "        assert subt in short_names.keys()\n",
    "        \n",
    "        pattern = short_names[subt]\n",
    "        subt_ids = df.columns[list(map(\n",
    "            lambda x: bool(re.search(pattern, str(x))),\n",
    "            histotypes))].to_list()\n",
    "        ids += subt_ids\n",
    "            \n",
    "    return ids\n",
    "\n",
    "\n",
    "def get_src_mask(df: pd.DataFrame, ids: list):\n",
    "    '''\n",
    "    Gets the boolean mask for samples corresponding to ids.\n",
    "    \n",
    "    :param df - dataframe in expected format (rows are omics' features, columns are tcga samples)\n",
    "    :param ids - list of tcga ids of interest. E.g. ids of patients with SRC.\n",
    "    '''\n",
    "    rgx = r\"|\".join(ids)\n",
    "    src_mask = list(map(lambda x: bool(re.search(rgx, x)),\n",
    "                        map(lambda x: \"-\".join(x.lower().split(\"-\")[:3]), df.columns)))\n",
    "    return src_mask\n",
    "\n",
    "\n",
    "# Perform Mann-Whitney U-test - nonparametric test for testing different expression for signet ring cells\n",
    "# An equivalent to ANOVA test is Kruskal-Wallis one way analysis, which was employed by broad gdac,\n",
    "# as a nonparametric, robust equivalent to one-way anova.\n",
    "# Let's have a function that takes a dataframe and computes this test for histologic type, in 2 versions:\n",
    "# kruskal-wallis and mann-whitney for src (with direction).\n",
    "\n",
    "def associations_with_src(df: pd.DataFrame, src_ids: list, background_ids: list or None) -> dict:\n",
    "    '''\n",
    "    Computes dict of associations (test statistic and p-value) \n",
    "     of features in df with sample appartenance in src_ids.\n",
    "    \n",
    "    :param df\n",
    "    :param src_ids\n",
    "    '''\n",
    "    \n",
    "    src_mask = get_src_mask(df, src_ids)\n",
    "    \n",
    "    if background_ids is None:\n",
    "        nonsrc_mask = [not i for i in src_mask]\n",
    "    elif type(background_ids) == list:\n",
    "        nonsrc_mask = get_src_mask(df, background_ids)\n",
    "    else:\n",
    "        raise TypeError(\"background_ids type not recognized.\")\n",
    "    \n",
    "    res = {}\n",
    "    for idx, row in df.iterrows():\n",
    "        src_vals    = row[src_mask].astype('float64')\n",
    "        nonsrc_vals = row[nonsrc_mask].astype('float64')\n",
    "        \n",
    "        try:\n",
    "            mwu = mannwhitneyu(nonsrc_vals, src_vals, alternative='two-sided')\n",
    "        except ValueError:\n",
    "            # assume all nrs are 0 and equal\n",
    "            res[idx] = [0, 1]\n",
    "        \n",
    "        mean_diff   = np.mean(src_vals) - np.mean(nonsrc_vals)\n",
    "        median_diff = np.median(src_vals) - np.median(nonsrc_vals)\n",
    "        \n",
    "        res[idx] = [mean_diff, median_diff, mwu[0], mwu[1]]\n",
    "    \n",
    "    return res\n",
    "\n",
    "\n",
    "def compute_src_statistics(df: pd.DataFrame, src_ids: list, background_ids: list or None) -> pd.DataFrame:\n",
    "    '''\n",
    "    Computes statistics for associating molecular features of SRC subtype.\n",
    "    \n",
    "    :param df - samples are tcga ids of all patients in background\n",
    "    :param src_ids - list of ids of samples corresponding to patients with SRC tumors.\n",
    "    '''\n",
    "    \n",
    "    r = associations_with_src(df, src_ids, background_ids)\n",
    "    r = pd.DataFrame.from_dict(r, orient='columns').transpose()\n",
    "    r.columns = ['mean_diff', 'median_diff', 'test-statistic', 'p-value']\n",
    "    r.sort_values(['p-value'], ascending=True, inplace=True)\n",
    "    \n",
    "    # Add multiple test correction\n",
    "    mtcorr = multipletests(r['p-value'],\n",
    "                          alpha=0.05,\n",
    "                          method='fdr_bh')\n",
    "    r['p-value_corrected'] = mtcorr[1]\n",
    "    r['p-value_reject']    = mtcorr[0]\n",
    "    \n",
    "    return r\n",
    "\n",
    "\n",
    "def compute_allomics_src_statistics(target: str or list, \n",
    "                                   background: str or list or None = None,\n",
    "                                   types: list = ['mrna', 'mirna']) -> pd.DataFrame:\n",
    "    '''\n",
    "    Computes statistics of association with SRC subtype for different multiomics data.\n",
    "    \n",
    "    :param paths - dict of omics_type -> Path()\n",
    "    :param src_ids - list of ids of src type\n",
    "    \n",
    "    :return df with columns [feature, omics_type, test-statistic, p-value, p-value-corrected, p-value-reject]\n",
    "    '''\n",
    "    \n",
    "    ### Load data\n",
    "    dfs = load_data(types)\n",
    "    \n",
    "    ### Get ids for target and background groups for comparison\n",
    "    src_ids = get_ids_by_subtype(dfs['clinical'], subtype=target)\n",
    "    \n",
    "    if background is None:\n",
    "        background_ids = None\n",
    "    else:\n",
    "        background_ids = get_ids_by_subtype(dfs['clinical'], subtype=background)\n",
    "    \n",
    "    ### Compute results and collect\n",
    "    res = {}\n",
    "    for omics_type, df in dfs.items():\n",
    "        \n",
    "        if omics_type == 'clinical':\n",
    "            continue\n",
    "            \n",
    "        df_res = compute_src_statistics(df, src_ids, background_ids)\n",
    "        df_res['data_type'] = omics_type\n",
    "        res[omics_type] = df_res\n",
    "    \n",
    "    ### Aggregate results in single dataframe\n",
    "    df_final = pd.concat(res.values(), axis=0)\n",
    "    df_final.sort_values(['p-value_corrected'], ascending=True, inplace=True)\n",
    "    \n",
    "    return df_final"
   ]
  },
  {
   "cell_type": "code",
   "execution_count": 13,
   "metadata": {
    "Collapsed": "false"
   },
   "outputs": [],
   "source": [
    "# TODOS:\n",
    "# - compare across various subtypes\n",
    "# - add logistic regression to account for covariates (which ones ?...)  -  optional, showing off statistics.\n",
    "\n",
    "def run_experiment(results_dir='results'):\n",
    "    \n",
    "    results_path = Path(results_dir)\n",
    "    if not results_path.is_dir():\n",
    "        results_path.mkdir()\n",
    "\n",
    "    savefp = results_path / 'associations_src_vs_diffuse.csv'\n",
    "\n",
    "    target = ['src']\n",
    "    background = ['diffuse']\n",
    "    datatypes = ['mrna', 'mirna', 'rppa'] #'mirna',  # to add: cnv, mutations, methylation?\n",
    "\n",
    "    ### Currently it ignores the covariates, might add with a multiple logistic regression.\n",
    "    res = compute_allomics_src_statistics(target, background, datatypes)\n",
    "    res.to_csv(savefp, header=True, index=True)\n",
    "    \n",
    "    return res\n",
    "\n",
    "def load_results(path='results/associations_src_vs_diffuse.csv'):\n",
    "    df = pd.read_csv(path, header=0, index_col=0)\n",
    "    return df"
   ]
  },
  {
   "cell_type": "code",
   "execution_count": 14,
   "metadata": {
    "Collapsed": "false"
   },
   "outputs": [],
   "source": [
    "res = load_results()"
   ]
  },
  {
   "cell_type": "code",
   "execution_count": 30,
   "metadata": {
    "Collapsed": "false"
   },
   "outputs": [
    {
     "name": "stdout",
     "output_type": "stream",
     "text": [
      "\\begin{tabular}{lrrr}\n",
      "\\toprule\n",
      "{} &  mean\\_diff &  median\\_diff &  test-statistic \\\\\n",
      "\\midrule\n",
      "LOC100271831|100271831 &   8.844388 &          0.0 &           266.0 \\\\\n",
      "CABP2|51475            &   0.148125 &          0.0 &           300.0 \\\\\n",
      "\\bottomrule\n",
      "\\end{tabular}\n",
      "\n"
     ]
    }
   ],
   "source": [
    "print(res.iloc[:2,:3].to_latex())"
   ]
  },
  {
   "cell_type": "markdown",
   "metadata": {
    "Collapsed": "false"
   },
   "source": [
    "\\\\begin{tabular}{lrrrrrll}\\n\\\\toprule\\n{} &  mean\\\\_diff &  median\\\\_diff &  test-statistic &       p-value &  p-value\\\\_corrected &  p-value\\\\_reject & data\\\\_type \\\\\\\\\\n\\\\midrule\\nLOC100271831|100271831 &   8.844388 &          0.0 &           266.0 &  2.720926e-07 &           0.004066 &            True &      mrna \\\\\\\\\\nCABP2|51475            &   0.148125 &          0.0 &           300.0 &  3.960660e-07 &           0.004066 &            True &      mrna \\\\\\\\\\nNA|DIRAS3              &  -0.066495 &          NaN &           453.0 &  2.293746e-04 &           0.014909 &            True &      rppa \\\\\\\\\\nMAPK14|p38             &   0.013780 &          NaN &           456.0 &  1.828017e-04 &           0.014909 &            True &      rppa \\\\\\\\\\nXBP1|XBP1              &  -0.248150 &          NaN &           461.0 &  1.243618e-04 &           0.014909 &            True &      rppa \\\\\\\\\\n\\\\bottomrule\\n\\\\end{tabular}\\n"
   ]
  },
  {
   "cell_type": "code",
   "execution_count": null,
   "metadata": {
    "Collapsed": "false"
   },
   "outputs": [],
   "source": []
  }
 ],
 "metadata": {
  "kernelspec": {
   "display_name": "Python 3",
   "language": "python",
   "name": "python3"
  },
  "language_info": {
   "codemirror_mode": {
    "name": "ipython",
    "version": 3
   },
   "file_extension": ".py",
   "mimetype": "text/x-python",
   "name": "python",
   "nbconvert_exporter": "python",
   "pygments_lexer": "ipython3",
   "version": "3.7.5"
  }
 },
 "nbformat": 4,
 "nbformat_minor": 4
}
